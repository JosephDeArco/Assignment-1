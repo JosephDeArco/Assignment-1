{
 "cells": [
  {
   "cell_type": "markdown",
   "id": "27acd67b-75fc-4bb9-b10a-23ba092c8532",
   "metadata": {},
   "source": [
    "### **I. Create a text cells:**\n",
    "     1. Write there the following information:\n",
    "        - Assignment 1\n",
    "        - Date \n",
    "        - Your name\n",
    " ***Please use different headings.  Write your name in Bold format.***\n",
    "\n"
   ]
  },
  {
   "cell_type": "markdown",
   "id": "5728327d-b722-42ef-9aab-e8e9e6facf55",
   "metadata": {},
   "source": [
    "----\n",
    "# Assignment 1\n",
    "## January 28, 2025\n",
    "### Joseph Gabrielle De Arco"
   ]
  },
  {
   "cell_type": "markdown",
   "id": "644fff03-ed5c-464d-a324-09268a62e2b9",
   "metadata": {},
   "source": [
    "----\n",
    "     2. Create a bullet list of most commonly used programing languages\n",
    "     3. Create a table containing in head line: intermediate devices, end devices and media \n",
    "     and in each column examples of the above.\n"
   ]
  },
  {
   "cell_type": "markdown",
   "id": "cb8eabfa-2506-4721-b25b-e7396bbba1a5",
   "metadata": {},
   "source": [
    "----\n",
    "* Pyhton\n",
    "* C\n",
    "* Java"
   ]
  },
  {
   "cell_type": "markdown",
   "id": "798dae11-1f0d-49d8-a246-87ceb355386b",
   "metadata": {},
   "source": [
    "| Intermediate devices | End Devices | Media |\n",
    "| ---------------------| ----------- | ----- |\n",
    "| Router               | Laptop      | Cables  | \n",
    "| Lan Switch           | Printer     | Wireless Connections |"
   ]
  },
  {
   "cell_type": "markdown",
   "id": "566012db-6cd5-44d3-9264-13f4e7af620f",
   "metadata": {},
   "source": [
    "------\n",
    " ### II. Create code cells:\n",
    "        1. Print your name\n",
    "        2. Using input() take name of the user and print \"Hello \"\n",
    "        3. Using int(input()) take two numbers from user and print teir sum."
   ]
  },
  {
   "cell_type": "code",
   "execution_count": 9,
   "id": "04a532d2-1fae-43d8-9c50-0183e29c8fd4",
   "metadata": {},
   "outputs": [
    {
     "name": "stdout",
     "output_type": "stream",
     "text": [
      "Joseph Gabrielle De Arco\n"
     ]
    }
   ],
   "source": [
    "print('Joseph Gabrielle De Arco')"
   ]
  },
  {
   "cell_type": "code",
   "execution_count": 34,
   "id": "0a653a71-75d3-4a50-9731-47aafaaaab71",
   "metadata": {},
   "outputs": [
    {
     "name": "stdin",
     "output_type": "stream",
     "text": [
      "name:  Joseph De Arco\n"
     ]
    },
    {
     "name": "stdout",
     "output_type": "stream",
     "text": [
      "Hello Joseph De Arco\n"
     ]
    }
   ],
   "source": [
    "name = input('name: ')  \n",
    "print('Hello ' + name)  "
   ]
  },
  {
   "cell_type": "code",
   "execution_count": 36,
   "id": "1cd3c9c4-1eda-4616-b37a-323eb17eac4d",
   "metadata": {},
   "outputs": [
    {
     "name": "stdin",
     "output_type": "stream",
     "text": [
      "enter number 1: 2\n",
      "enter number 2: 3\n"
     ]
    },
    {
     "name": "stdout",
     "output_type": "stream",
     "text": [
      "5\n"
     ]
    }
   ],
   "source": [
    "number1 = int(input('enter number 1:'))\n",
    "number2 = int(input('enter number 2:'))\n",
    "print(number1 + number2)"
   ]
  },
  {
   "cell_type": "code",
   "execution_count": null,
   "id": "e056cccb-2fb6-422f-8284-b10541e9d15e",
   "metadata": {},
   "outputs": [],
   "source": []
  }
 ],
 "metadata": {
  "kernelspec": {
   "display_name": "Python 3 (ipykernel)",
   "language": "python",
   "name": "python3"
  },
  "language_info": {
   "codemirror_mode": {
    "name": "ipython",
    "version": 3
   },
   "file_extension": ".py",
   "mimetype": "text/x-python",
   "name": "python",
   "nbconvert_exporter": "python",
   "pygments_lexer": "ipython3",
   "version": "3.12.7"
  }
 },
 "nbformat": 4,
 "nbformat_minor": 5
}
