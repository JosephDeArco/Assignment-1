{
 "cells": [
  {
   "cell_type": "markdown",
   "id": "93364af1-779e-4620-8822-8d1a0944e173",
   "metadata": {},
   "source": [
    "### **I. Create a text cells:**\n",
    "     1. Write there the following information:\n",
    "        - Assignment 1\n",
    "        - Date \n",
    "        - Your name\n",
    " ***Please use different headings.  Write your name in Bold format.***"
   ]
  },
  {
   "cell_type": "markdown",
   "id": "8a3fdb5b-79b9-45b8-8408-99a0e9cdf7d2",
   "metadata": {},
   "source": [
    "----\n",
    "# Assignment 1\n",
    "## January 28, 2025\n",
    "### Joseph Gabrielle De Arco"
   ]
  },
  {
   "cell_type": "markdown",
   "id": "cec76b3e-52fb-48cb-9f9f-2258a7e369c1",
   "metadata": {},
   "source": [
    "----\n",
    "     2. Create a bullet list of most commonly used programing languages\n",
    "     3. Create a table containing in head line: intermediate devices, end devices and media \n",
    "     and in each column examples of the above.\n"
   ]
  },
  {
   "cell_type": "markdown",
   "id": "23176e55-86fd-4abc-b4bc-4c9812600170",
   "metadata": {},
   "source": [
    "----\n",
    "* Python\n",
    "* C\n",
    "* Java"
   ]
  },
  {
   "cell_type": "markdown",
   "id": "a88f6552-d4af-44d8-92af-1dae163e3968",
   "metadata": {},
   "source": [
    "| Intermediate devices | End Devices | Media |\n",
    "| ---------------------| ----------- | ----- |\n",
    "| Router               | Laptop      | Cables  | \n",
    "| Lan Switch           | Printer     | Wireless Connections |"
   ]
  },
  {
   "cell_type": "markdown",
   "id": "7335cf44-ced1-4c81-bbc3-35c89cbbe875",
   "metadata": {},
   "source": [
    "------\n",
    " ### **II. Create code cells:**\n",
    "        1. Print your name\n",
    "        2. Using input() take name of the user and print \"Hello \"\n",
    "        3. Using int(input()) take two numbers from user and print teir sum."
   ]
  },
  {
   "cell_type": "code",
   "execution_count": 1,
   "id": "45cfadff-d7af-49b0-aaa5-4d998b70dd39",
   "metadata": {},
   "outputs": [
    {
     "name": "stdout",
     "output_type": "stream",
     "text": [
      "Joseph Gabrielle De Arco\n"
     ]
    }
   ],
   "source": [
    "print('Joseph Gabrielle De Arco')"
   ]
  },
  {
   "cell_type": "code",
   "execution_count": 2,
   "id": "1385b85e-067a-4c7c-a716-0d5b68f2450a",
   "metadata": {},
   "outputs": [
    {
     "name": "stdin",
     "output_type": "stream",
     "text": [
      "name:  Joseph Gabrielle De Arco\n"
     ]
    },
    {
     "name": "stdout",
     "output_type": "stream",
     "text": [
      "Hello Joseph Gabrielle De Arco\n"
     ]
    }
   ],
   "source": [
    "name = input('name: ')  \n",
    "print('Hello ' + name)  "
   ]
  },
  {
   "cell_type": "code",
   "execution_count": 3,
   "id": "6eb6f524-ade5-46fa-b33f-8ec2c62f255b",
   "metadata": {},
   "outputs": [
    {
     "name": "stdin",
     "output_type": "stream",
     "text": [
      "enter number 1: 2\n",
      "enter number 2: 3\n"
     ]
    },
    {
     "name": "stdout",
     "output_type": "stream",
     "text": [
      "5\n"
     ]
    }
   ],
   "source": [
    "number1 = int(input('enter number 1:'))\n",
    "number2 = int(input('enter number 2:'))\n",
    "print(number1 + number2)"
   ]
  }
 ],
 "metadata": {
  "kernelspec": {
   "display_name": "Python 3 (ipykernel)",
   "language": "python",
   "name": "python3"
  },
  "language_info": {
   "codemirror_mode": {
    "name": "ipython",
    "version": 3
   },
   "file_extension": ".py",
   "mimetype": "text/x-python",
   "name": "python",
   "nbconvert_exporter": "python",
   "pygments_lexer": "ipython3",
   "version": "3.12.7"
  }
 },
 "nbformat": 4,
 "nbformat_minor": 5
}
